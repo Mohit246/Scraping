{
 "cells": [
  {
   "cell_type": "markdown",
   "id": "513abc65",
   "metadata": {},
   "source": [
    "## Importing necessary libraries"
   ]
  },
  {
   "cell_type": "code",
   "execution_count": null,
   "id": "6c7c721f",
   "metadata": {},
   "outputs": [],
   "source": [
    "#!pip install random-user-agent"
   ]
  },
  {
   "cell_type": "code",
   "execution_count": 1,
   "id": "cb6619cb",
   "metadata": {},
   "outputs": [],
   "source": [
    "from selenium import webdriver\n",
    "\n",
    "import time\n",
    "import pandas as pd\n",
    "\n",
    "from random_user_agent.user_agent import UserAgent\n",
    "from random_user_agent.params import SoftwareName, OperatingSystem\n",
    "import numpy as np"
   ]
  },
  {
   "cell_type": "markdown",
   "id": "96ab11d3",
   "metadata": {},
   "source": [
    "## Trying to not get detected"
   ]
  },
  {
   "cell_type": "code",
   "execution_count": 2,
   "id": "7f72c55e",
   "metadata": {},
   "outputs": [],
   "source": [
    "software_names=[SoftwareName.CHROME.value]\n",
    "operating_systems=[OperatingSystem.WINDOWS.value]\n",
    "\n",
    "user_agent_rotator=UserAgent(software_names=software_names,\n",
    "                            operating_systems=operating_systems,\n",
    "                             limit=100)\n",
    "user_agent=user_agent_rotator.get_random_user_agent()\n",
    "\n",
    "options = webdriver.ChromeOptions() \n",
    "\n",
    "options.add_argument(f'user-agent={user_agent}')\n",
    "options.add_argument(\"--disable-blink-features\")\n",
    "options.add_argument(\"--disable-blink-features=AutomationControlled\")\n",
    "options.add_experimental_option(\"excludeSwitches\", [\"enable-automation\"])\n",
    "options.add_experimental_option('useAutomationExtension', False)\n",
    "\n",
    "# driver.execute_script(\"Object.defineProperty(navigator, 'webdriver', {get: () => undefined})\")"
   ]
  },
  {
   "cell_type": "markdown",
   "id": "717d3b91",
   "metadata": {},
   "source": [
    "## Scraping"
   ]
  },
  {
   "cell_type": "code",
   "execution_count": null,
   "id": "29cd8f53",
   "metadata": {},
   "outputs": [],
   "source": [
    "# Passing the path of the webdriver\n",
    "PATH = \"C:\\\\Program Files (x86)\\\\chromedriver.exe\"\n",
    "\n",
    "driver = webdriver.Chrome(options=options, executable_path=PATH)\n",
    "\n",
    "# Opening the link\n",
    "driver.get(\"https://www.walmart.com/ip/Clorox-Disinfecting-Wipes-225-Count-Value-Pack-Crisp-Lemon-and-Fresh-Scent-3-Pack-75-Count-Each/14898365\")\n",
    "\n",
    "time.sleep(3)\n",
    "\n",
    "# Clicking on 'See all reviews'\n",
    "link = driver.find_element_by_css_selector(\"#customer-reviews-header > div:nth-child(2) > div > div.ReviewsBar-link-buttons > a.button.ReviewBtn-container.ReviewsHeaderWYR-seeAll.button--primary\")\n",
    "link.click()\n",
    "\n",
    "time.sleep(3)\n",
    "\n",
    "# Sorting the reviews from newest to oldest\n",
    "link = driver.find_element_by_css_selector(\"body > div.js-content > div > div > div > div.page-content-wrapper > div > div.frequent-mentions-container > div > div.frequent-mentions-results-bar > div > div.reviews-sort-bar > div > div.reviews-sort-bar-sort-field.field.field--select.field--compact > select > option:nth-child(3)\")\n",
    "link.click()\n",
    "time.sleep(3)\n",
    "\n",
    "# Creating lists to store the scraped data\n",
    "dates=[]\n",
    "names=[]\n",
    "titles=[]\n",
    "descriptions=[]\n",
    "ratings=[]\n",
    "\n",
    "# Setting condition to True\n",
    "CONDITION=True\n",
    "\n",
    "# Running the while loop until the 'CONDITION' becomes False\n",
    "while CONDITION:\n",
    "     # Getting all the elements which are present in the 'customer-review-body' div which has all the\n",
    "     # titles, dates, name, description and rating\n",
    "    iter=driver.find_elements_by_css_selector('div.Grid-col.customer-review-body')\n",
    "    \n",
    "    # For each review-\n",
    "    for i in iter:\n",
    "        # Some of the values were not present in the website. To avoid getting no values,\n",
    "        # we'll use exceptions, when raised, will result in Nan's getting appended rather than nothing\n",
    "\n",
    "        print(\"____________________________________________________________________________________\")\n",
    "        # Getting the date\n",
    "        try:\n",
    "            date = i.find_element_by_css_selector('span.review-date-submissionTime').text\n",
    "            temp = date[-4:]\n",
    "            # Printing the dates just to keep an eye on the scraping\n",
    "            print(\"YEAR:\",date)\n",
    "            dates.append(date)\n",
    "            # Changing the status of 'CONDITION' to False if the year gets to '2020'\n",
    "            # which will break the while loop\n",
    "            if(int(temp)<2021):\n",
    "                CONDITION = False\n",
    "                break\n",
    "        except Exception as e:\n",
    "            print(e)\n",
    "\n",
    "        # Getting the title\n",
    "        try:\n",
    "            title = i.find_element_by_css_selector('h3.review-title.font-bold').text\n",
    "            titles.append(title)\n",
    "        except Exception as E:\n",
    "            titles.append(np.nan)\n",
    "            \n",
    "        # Getting the name\n",
    "        try:\n",
    "            name = i.find_element_by_css_selector('span.review-footer-userNickname').text\n",
    "            names.append(name)\n",
    "\n",
    "        except Exception as E:\n",
    "            names.append(np.nan)\n",
    "\n",
    "        # Getting the description\n",
    "        try:\n",
    "            description = i.find_element_by_css_selector('div.review-description').text\n",
    "            descriptions.append(description)\n",
    "        except Exception as E:\n",
    "            descriptions.append(np.nan)\n",
    "\n",
    "        # Getting the rating\n",
    "        try:\n",
    "            rating = i.find_element_by_css_selector('span.visuallyhidden.seo-avg-rating').text\n",
    "            ratings.append(rating)\n",
    "        except Exception as E:\n",
    "            ratings.append(np.nan)\n",
    "            \n",
    "        time.sleep(1)\n",
    "\n",
    "            \n",
    "    time.sleep(2)       \n",
    "    # Clicking on the next page       \n",
    "    link = driver.find_element_by_css_selector(\"button.paginator-btn.paginator-btn-next\")\n",
    "    link.click()"
   ]
  },
  {
   "cell_type": "markdown",
   "id": "94f82d9c",
   "metadata": {},
   "source": [
    "## Creating dataframe"
   ]
  },
  {
   "cell_type": "code",
   "execution_count": 6,
   "id": "7fe198fe",
   "metadata": {},
   "outputs": [],
   "source": [
    "df = pd.DataFrame(list(zip(names,dates,titles,ratings,descriptions)), columns=['Name','Date','Title','Rating','Description'])"
   ]
  },
  {
   "cell_type": "code",
   "execution_count": 7,
   "id": "123d17c6",
   "metadata": {},
   "outputs": [
    {
     "data": {
      "text/html": [
       "<div>\n",
       "<style scoped>\n",
       "    .dataframe tbody tr th:only-of-type {\n",
       "        vertical-align: middle;\n",
       "    }\n",
       "\n",
       "    .dataframe tbody tr th {\n",
       "        vertical-align: top;\n",
       "    }\n",
       "\n",
       "    .dataframe thead th {\n",
       "        text-align: right;\n",
       "    }\n",
       "</style>\n",
       "<table border=\"1\" class=\"dataframe\">\n",
       "  <thead>\n",
       "    <tr style=\"text-align: right;\">\n",
       "      <th></th>\n",
       "      <th>Name</th>\n",
       "      <th>Date</th>\n",
       "      <th>Title</th>\n",
       "      <th>Rating</th>\n",
       "      <th>Description</th>\n",
       "    </tr>\n",
       "  </thead>\n",
       "  <tbody>\n",
       "    <tr>\n",
       "      <th>0</th>\n",
       "      <td>Goodeat</td>\n",
       "      <td>August 3, 2021</td>\n",
       "      <td>NaN</td>\n",
       "      <td>2.0</td>\n",
       "      <td>One plastic container was crunched and leaked ...</td>\n",
       "    </tr>\n",
       "    <tr>\n",
       "      <th>1</th>\n",
       "      <td>Vicki</td>\n",
       "      <td>August 3, 2021</td>\n",
       "      <td>Clorox Disinfecting Wipes,(225 Count Pack)</td>\n",
       "      <td>1.0</td>\n",
       "      <td>The box this item was delivered in was wet!! W...</td>\n",
       "    </tr>\n",
       "    <tr>\n",
       "      <th>2</th>\n",
       "      <td>Mark</td>\n",
       "      <td>August 3, 2021</td>\n",
       "      <td>Thank you!</td>\n",
       "      <td>5.0</td>\n",
       "      <td>This is good price and great product!</td>\n",
       "    </tr>\n",
       "    <tr>\n",
       "      <th>3</th>\n",
       "      <td>James</td>\n",
       "      <td>August 2, 2021</td>\n",
       "      <td>NaN</td>\n",
       "      <td>2.0</td>\n",
       "      <td>Whatever liquid thats not absorbed in the towe...</td>\n",
       "    </tr>\n",
       "    <tr>\n",
       "      <th>4</th>\n",
       "      <td>Ro</td>\n",
       "      <td>August 1, 2021</td>\n",
       "      <td>NaN</td>\n",
       "      <td>5.0</td>\n",
       "      <td>Love these, very easy to use</td>\n",
       "    </tr>\n",
       "  </tbody>\n",
       "</table>\n",
       "</div>"
      ],
      "text/plain": [
       "      Name            Date                                       Title Rating  \\\n",
       "0  Goodeat  August 3, 2021                                         NaN    2.0   \n",
       "1    Vicki  August 3, 2021  Clorox Disinfecting Wipes,(225 Count Pack)    1.0   \n",
       "2     Mark  August 3, 2021                                  Thank you!    5.0   \n",
       "3    James  August 2, 2021                                         NaN    2.0   \n",
       "4       Ro  August 1, 2021                                         NaN    5.0   \n",
       "\n",
       "                                         Description  \n",
       "0  One plastic container was crunched and leaked ...  \n",
       "1  The box this item was delivered in was wet!! W...  \n",
       "2              This is good price and great product!  \n",
       "3  Whatever liquid thats not absorbed in the towe...  \n",
       "4                       Love these, very easy to use  "
      ]
     },
     "execution_count": 7,
     "metadata": {},
     "output_type": "execute_result"
    }
   ],
   "source": [
    "df.head()"
   ]
  },
  {
   "cell_type": "code",
   "execution_count": 8,
   "id": "7622c5c0",
   "metadata": {},
   "outputs": [],
   "source": [
    "df['Date'] = pd.to_datetime(df.Date,format=\"%B %d, %Y\")"
   ]
  },
  {
   "cell_type": "code",
   "execution_count": 9,
   "id": "c55f3517",
   "metadata": {},
   "outputs": [],
   "source": [
    "df = df.sort_values(by=\"Date\",ascending=False)"
   ]
  },
  {
   "cell_type": "code",
   "execution_count": 10,
   "id": "1c668384",
   "metadata": {},
   "outputs": [
    {
     "data": {
      "text/html": [
       "<div>\n",
       "<style scoped>\n",
       "    .dataframe tbody tr th:only-of-type {\n",
       "        vertical-align: middle;\n",
       "    }\n",
       "\n",
       "    .dataframe tbody tr th {\n",
       "        vertical-align: top;\n",
       "    }\n",
       "\n",
       "    .dataframe thead th {\n",
       "        text-align: right;\n",
       "    }\n",
       "</style>\n",
       "<table border=\"1\" class=\"dataframe\">\n",
       "  <thead>\n",
       "    <tr style=\"text-align: right;\">\n",
       "      <th></th>\n",
       "      <th>Name</th>\n",
       "      <th>Date</th>\n",
       "      <th>Title</th>\n",
       "      <th>Rating</th>\n",
       "      <th>Description</th>\n",
       "    </tr>\n",
       "  </thead>\n",
       "  <tbody>\n",
       "    <tr>\n",
       "      <th>0</th>\n",
       "      <td>Goodeat</td>\n",
       "      <td>2021-08-03</td>\n",
       "      <td>NaN</td>\n",
       "      <td>2.0</td>\n",
       "      <td>One plastic container was crunched and leaked ...</td>\n",
       "    </tr>\n",
       "    <tr>\n",
       "      <th>20</th>\n",
       "      <td>Goodeat</td>\n",
       "      <td>2021-08-03</td>\n",
       "      <td>NaN</td>\n",
       "      <td>2.0</td>\n",
       "      <td>One plastic container was crunched and leaked ...</td>\n",
       "    </tr>\n",
       "    <tr>\n",
       "      <th>21</th>\n",
       "      <td>Vicki</td>\n",
       "      <td>2021-08-03</td>\n",
       "      <td>Clorox Disinfecting Wipes,(225 Count Pack)</td>\n",
       "      <td>1.0</td>\n",
       "      <td>The box this item was delivered in was wet!! W...</td>\n",
       "    </tr>\n",
       "    <tr>\n",
       "      <th>1</th>\n",
       "      <td>Vicki</td>\n",
       "      <td>2021-08-03</td>\n",
       "      <td>Clorox Disinfecting Wipes,(225 Count Pack)</td>\n",
       "      <td>1.0</td>\n",
       "      <td>The box this item was delivered in was wet!! W...</td>\n",
       "    </tr>\n",
       "    <tr>\n",
       "      <th>2</th>\n",
       "      <td>Mark</td>\n",
       "      <td>2021-08-03</td>\n",
       "      <td>Thank you!</td>\n",
       "      <td>5.0</td>\n",
       "      <td>This is good price and great product!</td>\n",
       "    </tr>\n",
       "  </tbody>\n",
       "</table>\n",
       "</div>"
      ],
      "text/plain": [
       "       Name       Date                                       Title Rating  \\\n",
       "0   Goodeat 2021-08-03                                         NaN    2.0   \n",
       "20  Goodeat 2021-08-03                                         NaN    2.0   \n",
       "21    Vicki 2021-08-03  Clorox Disinfecting Wipes,(225 Count Pack)    1.0   \n",
       "1     Vicki 2021-08-03  Clorox Disinfecting Wipes,(225 Count Pack)    1.0   \n",
       "2      Mark 2021-08-03                                  Thank you!    5.0   \n",
       "\n",
       "                                          Description  \n",
       "0   One plastic container was crunched and leaked ...  \n",
       "20  One plastic container was crunched and leaked ...  \n",
       "21  The box this item was delivered in was wet!! W...  \n",
       "1   The box this item was delivered in was wet!! W...  \n",
       "2               This is good price and great product!  "
      ]
     },
     "execution_count": 10,
     "metadata": {},
     "output_type": "execute_result"
    }
   ],
   "source": [
    "df.head()"
   ]
  },
  {
   "cell_type": "markdown",
   "id": "9956a0a0",
   "metadata": {},
   "source": [
    "## Exporting data into csv"
   ]
  },
  {
   "cell_type": "code",
   "execution_count": null,
   "id": "6752bac6",
   "metadata": {},
   "outputs": [],
   "source": [
    "df.to_csv('Reiviews.csv',index=False)"
   ]
  }
 ],
 "metadata": {
  "kernelspec": {
   "display_name": "Python 3",
   "language": "python",
   "name": "python3"
  },
  "language_info": {
   "codemirror_mode": {
    "name": "ipython",
    "version": 3
   },
   "file_extension": ".py",
   "mimetype": "text/x-python",
   "name": "python",
   "nbconvert_exporter": "python",
   "pygments_lexer": "ipython3",
   "version": "3.8.8"
  }
 },
 "nbformat": 4,
 "nbformat_minor": 5
}
